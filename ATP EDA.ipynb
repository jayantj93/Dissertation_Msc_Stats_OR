{
 "cells": [
  {
   "cell_type": "code",
   "execution_count": 1,
   "metadata": {},
   "outputs": [],
   "source": [
    "# This Python 3 environment comes with many helpful analytics libraries installed\n",
    "# It is defined by the kaggle/python docker image: https://github.com/kaggle/docker-python\n",
    "# For example, here's several helpful packages to load in \n",
    "\n",
    "import numpy as np # linear algebra\n",
    "import pandas as pd # data processing, CSV file I/O (e.g. pd.read_csv)\n",
    "import matplotlib.pyplot as plt # plotting\n",
    "import matplotlib\n",
    "matplotlib.style.use('fivethirtyeight')\n",
    "import os\n",
    "import seaborn as sns ## plotting histograms\n",
    "\n",
    "# Input data files are available in the \"../input/\" directory.\n",
    "# For example, running this (by clicking run or pressing Shift+Enter) will list the files in the input directory\n",
    "from subprocess import check_output"
   ]
  },
  {
   "cell_type": "code",
   "execution_count": null,
   "metadata": {},
   "outputs": [],
   "source": [
    "os.getcwd()"
   ]
  },
  {
   "cell_type": "code",
   "execution_count": 2,
   "metadata": {},
   "outputs": [
    {
     "name": "stderr",
     "output_type": "stream",
     "text": [
      "/Users/jayantjuneja/anaconda3/lib/python3.7/site-packages/IPython/core/interactiveshell.py:3057: DtypeWarning: Columns (11,12) have mixed types.Specify dtype option on import or set low_memory=False.\n",
      "  interactivity=interactivity, compiler=compiler, result=result)\n"
     ]
    }
   ],
   "source": [
    "tennis_df = pd.read_csv('Data.csv', encoding = 'latin1') # Read Data"
   ]
  },
  {
   "cell_type": "code",
   "execution_count": null,
   "metadata": {},
   "outputs": [],
   "source": [
    "tennis_df = pd.read_csv('Data.csv', encoding = 'latin1') # Read Data\n",
    "tennis_df.WRank = pd.to_numeric(tennis_df.WRank, errors = 'coerce') \n",
    "tennis_df.LRank = pd.to_numeric(tennis_df.LRank, errors = 'coerce')\n",
    "# New Feature: Rank difference betweehn the 2 oponents\n",
    "tennis_df['Diff'] =  tennis_df.LRank - tennis_df.WRank \n",
    "# New Feature: Round the rank difference to 10's and 20's\n",
    "tennis_df['Round_10'] = 10*round(np.true_divide(tennis_df.Diff,10))\n",
    "tennis_df['Round_20'] = 20*round(np.true_divide(tennis_df.Diff,20))\n",
    "# New Feature: Total number of sets in the match\n",
    "tennis_df['Total Sets'] = tennis_df.Wsets + tennis_df.Lsets\n",
    "\n",
    "tennis_df.W3 = tennis_df.W3.fillna(0)\n",
    "tennis_df.W4 = tennis_df.W4.fillna(0)\n",
    "tennis_df.W5 = tennis_df.W5.fillna(0)\n",
    "tennis_df.L3 = tennis_df.L3.fillna(0)\n",
    "tennis_df.L4 = tennis_df.L4.fillna(0)\n",
    "tennis_df.L5 = tennis_df.L5.fillna(0)\n",
    "\n",
    "tennis_df['Sets Diff'] = tennis_df.W1+tennis_df.W2+tennis_df.W3+tennis_df.W4+tennis_df.W5 - (tennis_df.L1+tennis_df.L2+tennis_df.L3+tennis_df.L4+tennis_df.L5)\n",
    "new_df = tennis_df\n",
    "\n",
    "# 2 New Data Frames: Grand Slam data frame (GS) and non-Grand Slam data frame (non GS)\n",
    "df_non_GS = new_df[~(new_df.Series == 'Grand Slam')]\n",
    "df_GS = new_df[new_df.Series == 'Grand Slam']"
   ]
  },
  {
   "cell_type": "code",
   "execution_count": null,
   "metadata": {},
   "outputs": [],
   "source": [
    "tennis_df"
   ]
  },
  {
   "cell_type": "code",
   "execution_count": null,
   "metadata": {},
   "outputs": [],
   "source": [
    "bins = np.arange(10,200,10)\n",
    "Gs_prob = []\n",
    "\n",
    "for bi in bins:\n",
    "    \n",
    "    pos = bi\n",
    "    neg = -pos\n",
    "    \n",
    "    pos_wins = len(df_GS[df_GS.Round_10 == pos])\n",
    "    neg_wins = len(df_GS[df_GS.Round_10 == neg])\n",
    "    Gs_prob.append(np.true_divide(pos_wins,pos_wins + neg_wins))\n",
    "    \n",
    "\n",
    "prob = []\n",
    "\n",
    "for bi in bins:\n",
    "    \n",
    "    W = np.true_divide(1,np.mean(df_GS.AvgW[df_GS.Round_10 == bi]))\n",
    "    L = np.true_divide(1,np.mean(df_GS.AvgL[df_GS.Round_10 == bi]))\n",
    "    ratio = np.true_divide(1,L + W)\n",
    "    part_ratio = (ratio - 1)/2 + 1\n",
    "    prob.append(W/part_ratio)\n",
    "    \n",
    "plt.figure(figsize = (10,10))    \n",
    "#plt.hold(True)\n",
    "plt.bar(bins,prob, width = 10, color = 'blue')\n",
    "plt.bar(bins,Gs_prob, width = 8, color = 'red')\n",
    "plt.xlabel('Rank Difference', fontsize = 15)\n",
    "plt.ylabel('Winning Probability', fontsize = 15)\n",
    "plt.xlim([10,200])\n",
    "plt.ylim([0.5,1])\n",
    "plt.title('Are Betting Markets Good Predictors in Grand Slam Tournaments?', fontsize = 15)\n",
    "plt.legend(['Betting Market Odds','Reality'], loc = 2, fontsize = 15)\n",
    "plt.show()\n"
   ]
  },
  {
   "cell_type": "code",
   "execution_count": null,
   "metadata": {},
   "outputs": [],
   "source": [
    "prob"
   ]
  },
  {
   "cell_type": "markdown",
   "metadata": {},
   "source": [
    "**XGBOOSTING**\n"
   ]
  },
  {
   "cell_type": "code",
   "execution_count": 3,
   "metadata": {},
   "outputs": [
    {
     "name": "stdout",
     "output_type": "stream",
     "text": [
      "<class 'pandas.core.frame.DataFrame'>\n",
      "RangeIndex: 46652 entries, 0 to 46651\n",
      "Data columns (total 54 columns):\n",
      " #   Column      Non-Null Count  Dtype  \n",
      "---  ------      --------------  -----  \n",
      " 0   ATP         46652 non-null  int64  \n",
      " 1   Location    46652 non-null  object \n",
      " 2   Tournament  46652 non-null  object \n",
      " 3   Date        46652 non-null  object \n",
      " 4   Series      46652 non-null  object \n",
      " 5   Court       46652 non-null  object \n",
      " 6   Surface     46652 non-null  object \n",
      " 7   Round       46652 non-null  object \n",
      " 8   Best of     46652 non-null  int64  \n",
      " 9   Winner      46652 non-null  object \n",
      " 10  Loser       46652 non-null  object \n",
      " 11  WRank       46637 non-null  object \n",
      " 12  LRank       46581 non-null  object \n",
      " 13  W1          46423 non-null  float64\n",
      " 14  L1          46423 non-null  float64\n",
      " 15  W2          45962 non-null  float64\n",
      " 16  L2          45963 non-null  float64\n",
      " 17  W3          21365 non-null  float64\n",
      " 18  L3          21365 non-null  float64\n",
      " 19  W4          4226 non-null   float64\n",
      " 20  L4          4226 non-null   float64\n",
      " 21  W5          1617 non-null   float64\n",
      " 22  L5          1617 non-null   float64\n",
      " 23  Wsets       46462 non-null  float64\n",
      " 24  Lsets       46462 non-null  float64\n",
      " 25  Comment     46652 non-null  object \n",
      " 26  CBW         17507 non-null  float64\n",
      " 27  CBL         17507 non-null  float64\n",
      " 28  GBW         5055 non-null   float64\n",
      " 29  GBL         5055 non-null   float64\n",
      " 30  IWW         13358 non-null  float64\n",
      " 31  IWL         13358 non-null  float64\n",
      " 32  SBW         5424 non-null   float64\n",
      " 33  SBL         5424 non-null   float64\n",
      " 34  B365W       38019 non-null  float64\n",
      " 35  B365L       38042 non-null  float64\n",
      " 36  B&WW        1097 non-null   float64\n",
      " 37  B&WL        1097 non-null   float64\n",
      " 38  EXW         33799 non-null  float64\n",
      " 39  EXL         33804 non-null  float64\n",
      " 40  PSW         31729 non-null  float64\n",
      " 41  PSL         31729 non-null  float64\n",
      " 42  WPts        30448 non-null  float64\n",
      " 43  LPts        30396 non-null  float64\n",
      " 44  UBW         10672 non-null  float64\n",
      " 45  UBL         10672 non-null  float64\n",
      " 46  LBW         23230 non-null  float64\n",
      " 47  LBL         23239 non-null  float64\n",
      " 48  SJW         15572 non-null  float64\n",
      " 49  SJL         15579 non-null  float64\n",
      " 50  MaxW        17104 non-null  float64\n",
      " 51  MaxL        17104 non-null  float64\n",
      " 52  AvgW        17104 non-null  float64\n",
      " 53  AvgL        17104 non-null  float64\n",
      "dtypes: float64(40), int64(2), object(12)\n",
      "memory usage: 19.2+ MB\n"
     ]
    }
   ],
   "source": [
    "tennis_df.info()"
   ]
  },
  {
   "cell_type": "code",
   "execution_count": null,
   "metadata": {},
   "outputs": [],
   "source": []
  }
 ],
 "metadata": {
  "kernelspec": {
   "display_name": "Python 3",
   "language": "python",
   "name": "python3"
  },
  "language_info": {
   "codemirror_mode": {
    "name": "ipython",
    "version": 3
   },
   "file_extension": ".py",
   "mimetype": "text/x-python",
   "name": "python",
   "nbconvert_exporter": "python",
   "pygments_lexer": "ipython3",
   "version": "3.7.3"
  }
 },
 "nbformat": 4,
 "nbformat_minor": 2
}
